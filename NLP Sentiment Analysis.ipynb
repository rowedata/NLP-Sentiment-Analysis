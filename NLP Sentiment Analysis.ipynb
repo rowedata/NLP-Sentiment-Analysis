{
 "cells": [
  {
   "cell_type": "markdown",
   "id": "ce1d65b7",
   "metadata": {},
   "source": [
    "# Sentiment analysis model"
   ]
  },
  {
   "cell_type": "markdown",
   "id": "71734f46",
   "metadata": {},
   "source": [
    "Sentiment analysis is a common NLP task that involves determining whether a piece of text expresses a positive, negative, or neutral sentiment.\n",
    "\n",
    "We'll build a sentiment analysis pipeline using Python, and the workflow will include the following steps:\n",
    "\n",
    "Data Collection: We'll use a publicly available dataset.\n",
    "Data Preprocessing: Cleaning and preparing the text data.\n",
    "Vectorization: Converting text into numerical features.\n",
    "Model Training: Training a machine learning model.\n",
    "Model Evaluation: Evaluating the performance of the model.\n",
    "Prediction: Using the model to predict sentiment on new text."
   ]
  },
  {
   "cell_type": "markdown",
   "id": "4fe69c72",
   "metadata": {},
   "source": [
    "## 1. Data Collection\n",
    "\n",
    "We'll use the IMDb movie reviews dataset, which is a popular dataset for sentiment analysis."
   ]
  },
  {
   "cell_type": "code",
   "execution_count": 1,
   "id": "dfae624f",
   "metadata": {},
   "outputs": [],
   "source": [
    "# Install necessary packages if you haven't already\n",
    "#!pip install nltk"
   ]
  },
  {
   "cell_type": "code",
   "execution_count": 2,
   "id": "68082aff",
   "metadata": {},
   "outputs": [
    {
     "name": "stderr",
     "output_type": "stream",
     "text": [
      "[nltk_data] Downloading package movie_reviews to\n",
      "[nltk_data]     /Users/benazirrowe/nltk_data...\n",
      "[nltk_data]   Package movie_reviews is already up-to-date!\n"
     ]
    },
    {
     "name": "stdout",
     "output_type": "stream",
     "text": [
      "                                                text label\n",
      "0  [plot, :, two, teen, couples, go, to, a, churc...   neg\n",
      "1  [the, happy, bastard, ', s, quick, movie, revi...   neg\n",
      "2  [it, is, movies, like, these, that, make, a, j...   neg\n",
      "3  [\", quest, for, camelot, \", is, warner, bros, ...   neg\n",
      "4  [synopsis, :, a, mentally, unstable, man, unde...   neg\n"
     ]
    }
   ],
   "source": [
    "import nltk\n",
    "from nltk.corpus import movie_reviews\n",
    "import pandas as pd\n",
    "\n",
    "# Download the dataset\n",
    "nltk.download('movie_reviews')\n",
    "\n",
    "# Load the dataset\n",
    "documents = [(list(movie_reviews.words(fileid)), category)\n",
    "             for category in movie_reviews.categories()\n",
    "             for fileid in movie_reviews.fileids(category)]\n",
    "\n",
    "# Convert to DataFrame\n",
    "df = pd.DataFrame(documents, columns=['text', 'label'])\n",
    "\n",
    "# Preview the data\n",
    "print(df.head())"
   ]
  },
  {
   "cell_type": "markdown",
   "id": "1b1a21df",
   "metadata": {},
   "source": [
    "Check the class distribution to make sure we are not dealing with imbalanced dataset"
   ]
  },
  {
   "cell_type": "code",
   "execution_count": 3,
   "id": "b45bad4a",
   "metadata": {},
   "outputs": [
    {
     "name": "stdout",
     "output_type": "stream",
     "text": [
      "Class Distribution:\n",
      "neg    1000\n",
      "pos    1000\n",
      "Name: label, dtype: int64\n"
     ]
    },
    {
     "data": {
      "image/png": "[encoded data removed]",
      "text/plain": [
       "<Figure size 432x288 with 1 Axes>"
      ]
     },
     "metadata": {
      "needs_background": "light"
     },
     "output_type": "display_data"
    }
   ],
   "source": [
    "# Count the number of samples in each class\n",
    "class_counts = df['label'].value_counts()\n",
    "\n",
    "# Display the class counts\n",
    "print(\"Class Distribution:\")\n",
    "print(class_counts)\n",
    "\n",
    "# Plot the class distribution\n",
    "import matplotlib.pyplot as plt\n",
    "\n",
    "class_counts.plot(kind='bar')\n",
    "plt.title('Class Distribution in the IMDb Movie Reviews Dataset')\n",
    "plt.xlabel('Class')\n",
    "plt.ylabel('Number of Samples')\n",
    "plt.show()\n"
   ]
  },
  {
   "cell_type": "markdown",
   "id": "f14e6024",
   "metadata": {},
   "source": [
    "## 2. Data Preprocessing\n",
    "\n",
    "We'll clean the text data by removing HTML tags, punctuation, and converting text to lowercase."
   ]
  },
  {
   "cell_type": "code",
   "execution_count": 4,
   "id": "fe258ee7",
   "metadata": {},
   "outputs": [],
   "source": [
    "import re\n",
    "from sklearn.model_selection import train_test_split\n",
    "\n",
    "def preprocess_text(words):\n",
    "    text = ' '.join(words)\n",
    "    text = text.lower()  # Convert to lowercase\n",
    "    text = re.sub(r'[^\\w\\s]', '', text)  # Remove punctuation\n",
    "    return text\n",
    "\n",
    "# Apply preprocessing\n",
    "df['cleaned_text'] = df['text'].apply(preprocess_text)\n",
    "\n",
    "# Split the data into train and test sets\n",
    "X_train, X_test, y_train, y_test = train_test_split(df['cleaned_text'], df['label'], test_size=0.2, random_state=42)"
   ]
  },
  {
   "cell_type": "markdown",
   "id": "189359cd",
   "metadata": {},
   "source": [
    "## 3. Vectorization\n",
    "\n",
    "We'll use TF-IDF vectorization to convert the text data into numerical features."
   ]
  },
  {
   "cell_type": "code",
   "execution_count": 5,
   "id": "0a046ae9",
   "metadata": {},
   "outputs": [],
   "source": [
    "from sklearn.feature_extraction.text import TfidfVectorizer\n",
    "\n",
    "# Initialize TF-IDF vectorizer\n",
    "tfidf_vectorizer = TfidfVectorizer(max_features=5000)\n",
    "\n",
    "# Fit and transform the training data, transform the test data\n",
    "X_train_tfidf = tfidf_vectorizer.fit_transform(X_train)\n",
    "X_test_tfidf = tfidf_vectorizer.transform(X_test)\n"
   ]
  },
  {
   "cell_type": "markdown",
   "id": "5f4c1915",
   "metadata": {},
   "source": [
    "## 4. Model Training\n",
    "\n",
    "We'll use a simple logistic regression model for training."
   ]
  },
  {
   "cell_type": "code",
   "execution_count": 6,
   "id": "58caf5ae",
   "metadata": {},
   "outputs": [
    {
     "data": {
      "text/plain": [
       "LogisticRegression(class_weight='balanced')"
      ]
     },
     "execution_count": 6,
     "metadata": {},
     "output_type": "execute_result"
    }
   ],
   "source": [
    "from sklearn.linear_model import LogisticRegression\n",
    "\n",
    "# Initialize and train the model\n",
    "model = LogisticRegression(class_weight='balanced')\n",
    "model.fit(X_train_tfidf, y_train)\n"
   ]
  },
  {
   "cell_type": "markdown",
   "id": "07e06578",
   "metadata": {},
   "source": [
    "## 5. Model Evaluation\n",
    "\n",
    "We'll evaluate the model's performance using accuracy, precision, recall, and F1-score."
   ]
  },
  {
   "cell_type": "code",
   "execution_count": 7,
   "id": "76b4e766",
   "metadata": {},
   "outputs": [
    {
     "name": "stdout",
     "output_type": "stream",
     "text": [
      "Accuracy: 0.80\n",
      "Precision: 0.80\n",
      "Recall: 0.82\n",
      "F1-score: 0.81\n",
      "\n",
      "Classification Report:\n",
      "               precision    recall  f1-score   support\n",
      "\n",
      "         neg       0.81      0.79      0.80       199\n",
      "         pos       0.80      0.82      0.81       201\n",
      "\n",
      "    accuracy                           0.80       400\n",
      "   macro avg       0.80      0.80      0.80       400\n",
      "weighted avg       0.80      0.80      0.80       400\n",
      "\n"
     ]
    }
   ],
   "source": [
    "from sklearn.metrics import accuracy_score, precision_score, recall_score, f1_score, classification_report\n",
    "\n",
    "# Predict on the test set\n",
    "y_pred = model.predict(X_test_tfidf)\n",
    "\n",
    "# Calculate evaluation metrics\n",
    "accuracy = accuracy_score(y_test, y_pred)\n",
    "precision = precision_score(y_test, y_pred, pos_label='pos')\n",
    "recall = recall_score(y_test, y_pred, pos_label='pos')\n",
    "f1 = f1_score(y_test, y_pred, pos_label='pos')\n",
    "\n",
    "print(f'Accuracy: {accuracy:.2f}')\n",
    "print(f'Precision: {precision:.2f}')\n",
    "print(f'Recall: {recall:.2f}')\n",
    "print(f'F1-score: {f1:.2f}')\n",
    "print('\\nClassification Report:\\n', classification_report(y_test, y_pred))\n"
   ]
  },
  {
   "cell_type": "markdown",
   "id": "dbbb6c82",
   "metadata": {},
   "source": [
    "## 6. Prediction\n",
    "\n",
    "We'll use the trained model to predict the sentiment of new text data."
   ]
  },
  {
   "cell_type": "code",
   "execution_count": 9,
   "id": "39f8a112",
   "metadata": {},
   "outputs": [
    {
     "name": "stdout",
     "output_type": "stream",
     "text": [
      "The sentiment of the review is: neg\n"
     ]
    }
   ],
   "source": [
    "def predict_sentiment(text):\n",
    "    text = re.sub(r'[^\\w\\s]', '', text.lower())\n",
    "    vectorized_text = tfidf_vectorizer.transform([text])\n",
    "    prediction = model.predict(vectorized_text)[0]\n",
    "    return prediction\n",
    "\n",
    "# Test the function with a new review\n",
    "new_review = \"It's kind of boring\"\n",
    "predicted_sentiment = predict_sentiment(new_review)\n",
    "print(f'The sentiment of the review is: {predicted_sentiment}')\n"
   ]
  },
  {
   "cell_type": "markdown",
   "id": "c962baca",
   "metadata": {},
   "source": [
    "In this revised workflow, we used the nltk library to load a sample of the IMDb movie reviews dataset. The steps included data collection, preprocessing, vectorization, model training, evaluation, and prediction. This approach should help you build and test a sentiment analysis model successfully."
   ]
  },
  {
   "cell_type": "code",
   "execution_count": null,
   "id": "8ce5166e",
   "metadata": {},
   "outputs": [],
   "source": []
  }
 ],
 "metadata": {
  "kernelspec": {
   "display_name": "Python 3 (ipykernel)",
   "language": "python",
   "name": "python3"
  },
  "language_info": {
   "codemirror_mode": {
    "name": "ipython",
    "version": 3
   },
   "file_extension": ".py",
   "mimetype": "text/x-python",
   "name": "python",
   "nbconvert_exporter": "python",
   "pygments_lexer": "ipython3",
   "version": "3.9.12"
  }
 },
 "nbformat": 4,
 "nbformat_minor": 5
}
